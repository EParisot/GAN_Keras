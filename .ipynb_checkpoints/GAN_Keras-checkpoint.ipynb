{
 "cells": [
  {
   "cell_type": "code",
   "execution_count": 20,
   "metadata": {},
   "outputs": [],
   "source": [
    "import os\n",
    "import numpy as np\n",
    "import pandas as pd\n",
    "import random\n",
    "import matplotlib.pyplot as plt\n",
    "from keras.preprocessing.image import load_img\n",
    "from keras.preprocessing.image import img_to_array\n",
    "from keras.models import Model, Sequential\n",
    "from keras.layers import *\n",
    "import keras.backend as K\n",
    "import keras.callbacks\n",
    "\n",
    "from keras.datasets import mnist"
   ]
  },
  {
   "cell_type": "code",
   "execution_count": 21,
   "metadata": {},
   "outputs": [],
   "source": [
    "def load_mnist_data():\n",
    "    (x_train, y_train), (x_test, y_test) = mnist.load_data()\n",
    "    x_train = (x_train.astype(np.float32) - 127.5)/127.5\n",
    "    x_train = x_train.reshape(60000, 784)\n",
    "    return (x_train, y_train, x_test, y_test)"
   ]
  },
  {
   "cell_type": "markdown",
   "metadata": {},
   "source": [
    "# 1D"
   ]
  },
  {
   "cell_type": "code",
   "execution_count": 45,
   "metadata": {},
   "outputs": [],
   "source": [
    "def build_1D_generator(rand_shape, output_shape):\n",
    "    \n",
    "    data_in = Input(shape=rand_shape, name=\"data_in\")\n",
    "    \n",
    "    x = Dense(256, kernel_initializer=initializers.RandomNormal(stddev=0.02))(data_in)       \n",
    "    x = LeakyReLU(alpha=0.2)(x)\n",
    "    \n",
    "    x = Dense(512)(x)       \n",
    "    x = LeakyReLU(alpha=0.2)(x)\n",
    "\n",
    "    x = Dense(1024)(x)       \n",
    "    x = LeakyReLU(alpha=0.2)(x)\n",
    "\n",
    "    out = Dense(output_shape[1], activation='tanh')(x)\n",
    "    \n",
    "    generator = Model(inputs=[data_in], outputs=[out])\n",
    "    generator.compile(loss='binary_crossentropy', optimizer='adadelta', metrics=['accuracy'])\n",
    "\n",
    "    return generator"
   ]
  },
  {
   "cell_type": "code",
   "execution_count": 46,
   "metadata": {},
   "outputs": [],
   "source": [
    "def build_1D_discriminator(input_shape):\n",
    "    \n",
    "    data_in = Input(shape=input_shape, name=\"data_in\")\n",
    "    \n",
    "    x = Dense(1024, kernel_initializer=initializers.RandomNormal(stddev=0.02))(data_in)       \n",
    "    x = LeakyReLU(alpha=0.2)(x)\n",
    "    x = Dropout(0.3)(x)\n",
    "    \n",
    "    x = Dense(512)(x)       \n",
    "    x = LeakyReLU(alpha=0.2)(x)\n",
    "    x = Dropout(0.3)(x)\n",
    "\n",
    "    x = Dense(256)(x)       \n",
    "    x = LeakyReLU(alpha=0.2)(x)\n",
    "    x = Dropout(0.3)(x)\n",
    "\n",
    "    out = Dense(1, activation='sigmoid')(x)\n",
    "    \n",
    "    discriminator = Model(inputs=[data_in], outputs=[out])\n",
    "    discriminator.compile(loss='binary_crossentropy', optimizer='adadelta', metrics=['accuracy'])\n",
    "\n",
    "    return discriminator"
   ]
  },
  {
   "cell_type": "markdown",
   "metadata": {},
   "source": [
    "# 2D"
   ]
  },
  {
   "cell_type": "code",
   "execution_count": 47,
   "metadata": {},
   "outputs": [],
   "source": [
    "def build_2D_generator(rand_shape, output_shape):\n",
    "    pass"
   ]
  },
  {
   "cell_type": "code",
   "execution_count": 48,
   "metadata": {},
   "outputs": [],
   "source": [
    "def build_2D_discriminator(input_shape):\n",
    "    \n",
    "    data_in = Input(shape=input_shape, name=\"data_in\")\n",
    "\n",
    "    x = Convolution2D(filters=64, kernel_size=32, strides=2,\n",
    "                padding='same', activation=\"relu\", use_bias=False, \n",
    "                kernel_initializer=initializers.RandomNormal(stddev=0.02))(data_in)       \n",
    "    x = BatchNormalization()(x)\n",
    "\n",
    "    x = Convolution2D(filters=32, kernel_size=16, strides=2, padding='same', \n",
    "                      activation=\"relu\", use_bias=False)(x)       \n",
    "    x = BatchNormalization()(x)\n",
    "\n",
    "    x = Convolution2D(filters=16, kernel_size=8, strides=2, padding='same', \n",
    "                      activation=\"relu\", use_bias=False)(x)       \n",
    "    x = BatchNormalization()(x)\n",
    "\n",
    "    x = Flatten(name='flattened')(x)\n",
    "\n",
    "    out = Dense(1, activation='sigmoid')(x)\n",
    "    \n",
    "    discriminator = Model(inputs=[data_in], outputs=[out])\n",
    "    discriminator.compile(loss='binary_crossentropy', optimizer='adadelta', metrics=['accuracy'])\n",
    "\n",
    "    return discriminator"
   ]
  },
  {
   "cell_type": "markdown",
   "metadata": {},
   "source": [
    "# Build GAN"
   ]
  },
  {
   "cell_type": "code",
   "execution_count": 49,
   "metadata": {},
   "outputs": [],
   "source": [
    "def build_gan(generator, discriminator, rand_shape):\n",
    "    \n",
    "    # set generation mode\n",
    "    discriminator.trainable = False\n",
    "    \n",
    "    gan_input = Input(shape=rand_shape)\n",
    "    x = generator(gan_input)\n",
    "    gan_output = discriminator(x)\n",
    "    \n",
    "    gan = Model(inputs=[gan_input], outputs=[gan_output])\n",
    "    gan.compile(loss=\"binary_crossentropy\", optimizer=\"adadelta\")\n",
    "    \n",
    "    return gan"
   ]
  },
  {
   "cell_type": "markdown",
   "metadata": {},
   "source": [
    "# Train GAN"
   ]
  },
  {
   "cell_type": "code",
   "execution_count": 52,
   "metadata": {},
   "outputs": [],
   "source": [
    "x_train, y_train, x_test, y_test = load_mnist_data()\n",
    "\n",
    "rand_params = 100\n",
    "rand_shape = (rand_params, 1)\n",
    "\n",
    "batch_size = 32\n",
    "batch_count = x_train.shape[0] / batch_size\n",
    "\n",
    "output_shape = x_train.shape\n",
    "\n",
    "generator = build_1D_generator(rand_shape, output_shape)\n",
    "discriminator = build_1D_discriminator(output_shape)\n",
    "gan = build_gan(generator, discriminator, rand_shape)"
   ]
  },
  {
   "cell_type": "code",
   "execution_count": null,
   "metadata": {},
   "outputs": [],
   "source": [
    "# TODO Training Process\n"
   ]
  }
 ],
 "metadata": {
  "kernelspec": {
   "display_name": "Python 3",
   "language": "python",
   "name": "python3"
  },
  "language_info": {
   "codemirror_mode": {
    "name": "ipython",
    "version": 3
   },
   "file_extension": ".py",
   "mimetype": "text/x-python",
   "name": "python",
   "nbconvert_exporter": "python",
   "pygments_lexer": "ipython3",
   "version": "3.6.5"
  }
 },
 "nbformat": 4,
 "nbformat_minor": 2
}
